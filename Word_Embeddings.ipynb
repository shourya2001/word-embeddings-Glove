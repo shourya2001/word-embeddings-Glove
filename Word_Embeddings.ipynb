{
  "nbformat": 4,
  "nbformat_minor": 0,
  "metadata": {
    "colab": {
      "provenance": [],
      "toc_visible": true
    },
    "kernelspec": {
      "name": "python3",
      "display_name": "Python 3"
    },
    "language_info": {
      "name": "python"
    }
  },
  "cells": [
    {
      "cell_type": "markdown",
      "source": [
        "# Word Embeddings"
      ],
      "metadata": {
        "id": "snPTf5W90sdC"
      }
    },
    {
      "cell_type": "markdown",
      "source": [
        "Implement cosine similarities from scratch and solve some word analogy problems with pre-trained word vectors."
      ],
      "metadata": {
        "id": "qujKDYlzgG8V"
      }
    },
    {
      "cell_type": "markdown",
      "source": [
        "## A. Load Pre-trained GloVe Word Vectors with Gensim"
      ],
      "metadata": {
        "id": "Y-RqYJcv05rP"
      }
    },
    {
      "cell_type": "code",
      "source": [
        "!pip install gensim"
      ],
      "metadata": {
        "colab": {
          "base_uri": "https://localhost:8080/"
        },
        "id": "ZoQgPZiL0yG1",
        "outputId": "6fe7aa30-475f-4f73-de33-a099fcb03847"
      },
      "execution_count": null,
      "outputs": [
        {
          "output_type": "stream",
          "name": "stdout",
          "text": [
            "Requirement already satisfied: gensim in /usr/local/lib/python3.10/dist-packages (4.3.3)\n",
            "Requirement already satisfied: numpy<2.0,>=1.18.5 in /usr/local/lib/python3.10/dist-packages (from gensim) (1.26.4)\n",
            "Requirement already satisfied: scipy<1.14.0,>=1.7.0 in /usr/local/lib/python3.10/dist-packages (from gensim) (1.13.1)\n",
            "Requirement already satisfied: smart-open>=1.8.1 in /usr/local/lib/python3.10/dist-packages (from gensim) (7.0.4)\n",
            "Requirement already satisfied: wrapt in /usr/local/lib/python3.10/dist-packages (from smart-open>=1.8.1->gensim) (1.16.0)\n"
          ]
        }
      ]
    },
    {
      "cell_type": "code",
      "source": [
        "import gensim.downloader\n",
        "import numpy as np"
      ],
      "metadata": {
        "id": "k1-WXnpN03RC"
      },
      "execution_count": null,
      "outputs": []
    },
    {
      "cell_type": "code",
      "source": [
        "glove_vectors = gensim.downloader.load('glove-wiki-gigaword-50')"
      ],
      "metadata": {
        "id": "WKEQ0svQ0_bu"
      },
      "execution_count": null,
      "outputs": []
    },
    {
      "cell_type": "code",
      "source": [
        "print('data type:', type(glove_vectors.vectors))\n",
        "print('# words:', glove_vectors.vectors.shape[0])\n",
        "print('Embedding dimension:', glove_vectors.vectors.shape[1])"
      ],
      "metadata": {
        "colab": {
          "base_uri": "https://localhost:8080/"
        },
        "id": "Emb5Z-y61Bb5",
        "outputId": "2f11eca3-371a-4d3c-934f-a8f305dc9365"
      },
      "execution_count": null,
      "outputs": [
        {
          "output_type": "stream",
          "name": "stdout",
          "text": [
            "data type: <class 'numpy.ndarray'>\n",
            "# words: 400000\n",
            "Embedding dimension: 50\n"
          ]
        }
      ]
    },
    {
      "cell_type": "markdown",
      "source": [
        "## B. Given a query word, find the top 10 words in the vocabulary that have the highest cosine similarity scores"
      ],
      "metadata": {
        "id": "ZduEu4W61Lvq"
      }
    },
    {
      "cell_type": "code",
      "source": [
        "glove_vectors.most_similar('cat', topn=10)"
      ],
      "metadata": {
        "colab": {
          "base_uri": "https://localhost:8080/"
        },
        "id": "u4E-tYXy1Jly",
        "outputId": "053b757e-2023-4c33-e561-3082a0790db0"
      },
      "execution_count": null,
      "outputs": [
        {
          "output_type": "execute_result",
          "data": {
            "text/plain": [
              "[('dog', 0.9218006134033203),\n",
              " ('rabbit', 0.8487821221351624),\n",
              " ('monkey', 0.8041081428527832),\n",
              " ('rat', 0.7891963124275208),\n",
              " ('cats', 0.7865270972251892),\n",
              " ('snake', 0.7798910737037659),\n",
              " ('dogs', 0.7795814871788025),\n",
              " ('pet', 0.7792249917984009),\n",
              " ('mouse', 0.773166835308075),\n",
              " ('bite', 0.7728800177574158)]"
            ]
          },
          "metadata": {},
          "execution_count": 37
        }
      ]
    },
    {
      "cell_type": "markdown",
      "source": [
        "## Implement `my_most_similar()` that will do the same thing as the built-in `most_similar()` function above\n"
      ],
      "metadata": {
        "id": "b2CvdJZ41RcJ"
      }
    },
    {
      "cell_type": "code",
      "source": [
        "glove_vectors.get_index('apple') # get the index of a word in the vocabulary"
      ],
      "metadata": {
        "id": "IsWUyrr-nb4l",
        "colab": {
          "base_uri": "https://localhost:8080/"
        },
        "outputId": "6fddab29-e3c3-473d-c310-9101a5255597"
      },
      "execution_count": null,
      "outputs": [
        {
          "output_type": "execute_result",
          "data": {
            "text/plain": [
              "3292"
            ]
          },
          "metadata": {},
          "execution_count": 38
        }
      ]
    },
    {
      "cell_type": "code",
      "source": [
        "glove_vectors.index_to_key[3292] # index to word"
      ],
      "metadata": {
        "id": "Jg5oUogSneB7",
        "colab": {
          "base_uri": "https://localhost:8080/",
          "height": 35
        },
        "outputId": "f0afa1d3-77a3-4ee0-bfc8-1b217fc07712"
      },
      "execution_count": null,
      "outputs": [
        {
          "output_type": "execute_result",
          "data": {
            "text/plain": [
              "'apple'"
            ],
            "application/vnd.google.colaboratory.intrinsic+json": {
              "type": "string"
            }
          },
          "metadata": {},
          "execution_count": 39
        }
      ]
    },
    {
      "cell_type": "code",
      "source": [
        "word = 'apple'\n",
        "glove_vectors.get_vector(word) # get the word vector of a word"
      ],
      "metadata": {
        "id": "_vkbFKQ2nfuN",
        "colab": {
          "base_uri": "https://localhost:8080/"
        },
        "outputId": "f56718f6-fa4d-4b8d-e8bd-369f1f4c01ff"
      },
      "execution_count": null,
      "outputs": [
        {
          "output_type": "execute_result",
          "data": {
            "text/plain": [
              "array([ 0.52042 , -0.8314  ,  0.49961 ,  1.2893  ,  0.1151  ,  0.057521,\n",
              "       -1.3753  , -0.97313 ,  0.18346 ,  0.47672 , -0.15112 ,  0.35532 ,\n",
              "        0.25912 , -0.77857 ,  0.52181 ,  0.47695 , -1.4251  ,  0.858   ,\n",
              "        0.59821 , -1.0903  ,  0.33574 , -0.60891 ,  0.41742 ,  0.21569 ,\n",
              "       -0.07417 , -0.5822  , -0.4502  ,  0.17253 ,  0.16448 , -0.38413 ,\n",
              "        2.3283  , -0.66682 , -0.58181 ,  0.74389 ,  0.095015, -0.47865 ,\n",
              "       -0.84591 ,  0.38704 ,  0.23693 , -1.5523  ,  0.64802 , -0.16521 ,\n",
              "       -1.4719  , -0.16224 ,  0.79857 ,  0.97391 ,  0.40027 , -0.21912 ,\n",
              "       -0.30938 ,  0.26581 ], dtype=float32)"
            ]
          },
          "metadata": {},
          "execution_count": 40
        }
      ]
    },
    {
      "cell_type": "code",
      "source": [
        "def my_most_similar(glove_vectors, query_word, topn):\n",
        "    \"\"\"\n",
        "    Find the most similar words to a given query word based on cosine similarity in the GloVe embedding space.\n",
        "\n",
        "    Args:\n",
        "        glove_vectors (Gensim KeyedVectors)\n",
        "        query_word (str): The word for which to find the most similar words.\n",
        "        topn (int): The number of most similar words to return.\n",
        "\n",
        "    Returns:\n",
        "        list of tuples:\n",
        "            - Each tuple contains a word (str) and its corresponding cosine similarity score (float) to the query word.\n",
        "            - The list is sorted in descending order of cosine similarity.\n",
        "    \"\"\"\n",
        "    W = glove_vectors.vectors\n",
        "\n",
        "    if query_word not in glove_vectors:\n",
        "        raise ValueError(f\"'{query_word}' not in vocabulary.\")\n",
        "\n",
        "    query_vec = glove_vectors[query_word]\n",
        "\n",
        "    similarities = []\n",
        "\n",
        "    for word in glove_vectors.index_to_key:\n",
        "        if word == query_word:\n",
        "            continue\n",
        "        word_vec = glove_vectors[word]\n",
        "        cosine_sim = np.dot(query_vec, word_vec) / (np.linalg.norm(query_vec) * np.linalg.norm(word_vec))\n",
        "        similarities.append((word, cosine_sim))\n",
        "\n",
        "    similarities = sorted(similarities, key=lambda x: x[1], reverse=True)\n",
        "\n",
        "    my_list = similarities[:topn]\n",
        "\n",
        "    assert len(my_list) == topn\n",
        "    return my_list"
      ],
      "metadata": {
        "id": "z9VKWxnV1PRP"
      },
      "execution_count": null,
      "outputs": []
    },
    {
      "cell_type": "markdown",
      "source": [
        "## C. What are the highest and lowest vector norms among all the word vectors? Answer with two values."
      ],
      "metadata": {
        "id": "9yQZwJ0b1gye"
      }
    },
    {
      "cell_type": "code",
      "source": [
        "#Your code here\n",
        "def find_max_min_vector_norm(glove_vectors):\n",
        "    \"\"\"\n",
        "    Find the maximum and minimum vector norms among all word vectors in the GloVe embeddings.\n",
        "\n",
        "    Args:\n",
        "        glove_vectors (Gensim KeyedVectors)\n",
        "\n",
        "    Returns:\n",
        "        max_vector_norm (float): The highest vector norm.\n",
        "        min_vector_norm (float): The lowest vector norm.\n",
        "    \"\"\"\n",
        "    max_vector_norm = -np.inf\n",
        "    min_vector_norm = np.inf\n",
        "\n",
        "    for word in glove_vectors.index_to_key:\n",
        "        vector = glove_vectors[word]\n",
        "        norm = np.linalg.norm(vector)\n",
        "\n",
        "        max_vector_norm = max(max_vector_norm, norm)\n",
        "        min_vector_norm = min(min_vector_norm, norm)\n",
        "\n",
        "    return max_vector_norm, min_vector_norm\n",
        "\n",
        "max_vector_norm, min_vector_norm = find_max_min_vector_norm(glove_vectors)\n",
        "print(f'max_vector_norm: {max_vector_norm:.3f}, min_vector_norm: {min_vector_norm:.3f}')"
      ],
      "metadata": {
        "id": "IzIc2brD2VdI",
        "colab": {
          "base_uri": "https://localhost:8080/"
        },
        "outputId": "ef061ffa-edf3-4230-9131-0300778cfad2"
      },
      "execution_count": null,
      "outputs": [
        {
          "output_type": "stream",
          "name": "stdout",
          "text": [
            "max_vector_norm: 14.122, min_vector_norm: 0.047\n"
          ]
        }
      ]
    },
    {
      "cell_type": "markdown",
      "source": [
        "## D. Why is cosine similarity better than dot product when calculating similarities between word vectors?"
      ],
      "metadata": {
        "id": "PyOJW6dg1rkG"
      }
    },
    {
      "cell_type": "markdown",
      "source": [
        "Cosine similarity is better than dot product because it only considers the direction of the vector and not the magnitude unlike dot product which factors in magnitude as well as direction. Considering only the direction is better as the magnitude depends on the frequency and the context which may skew the dot product results."
      ],
      "metadata": {
        "id": "zZU2E2fC2p-0"
      }
    },
    {
      "cell_type": "markdown",
      "source": [
        "## Your implementation of `my_most_similar()` should pass the test cases below"
      ],
      "metadata": {
        "id": "PErzUd1816x7"
      }
    },
    {
      "cell_type": "code",
      "source": [
        "def diff_results(oracle_list, my_list):\n",
        "  for oracle, mine in zip(oracle_list, my_list):\n",
        "    assert oracle[0] == mine[0], \"find the wrong word\"\n",
        "    assert np.isclose(oracle[1], mine[1]), \"wrong consine similarity\"\n",
        "\n",
        "for query in ['computer', 'frog', 'car']:\n",
        "  oracle_list = glove_vectors.most_similar(query, topn=10)\n",
        "  my_list = my_most_similar(glove_vectors, query, topn=10)\n",
        "  diff_results(oracle_list, my_list)"
      ],
      "metadata": {
        "id": "r4Yi1lWK1c4X"
      },
      "execution_count": null,
      "outputs": []
    },
    {
      "cell_type": "markdown",
      "source": [
        "## E. We visualize the word embeddings with PCA below. What do you see in the figure?\n",
        "- Hint: Each dot corresponds to a word vector. Do you observe any meaningful direction between related words?\n",
        "- You do not need to write any code in this question"
      ],
      "metadata": {
        "id": "dD41_iZH2EYw"
      }
    },
    {
      "cell_type": "code",
      "source": [
        "from sklearn.decomposition import PCA\n",
        "pca = PCA(n_components=2)\n",
        "Z = pca.fit_transform(glove_vectors.vectors)"
      ],
      "metadata": {
        "id": "kSAPfG3L19kM"
      },
      "execution_count": null,
      "outputs": []
    },
    {
      "cell_type": "code",
      "source": [
        "import matplotlib.pyplot as plt\n",
        "plt.figure(figsize=(10,5))\n",
        "for word in ['king', 'queen', 'lord', 'lady', 'prince', 'princess', 'men', 'women']:\n",
        "  point = Z[glove_vectors.get_index(word)]\n",
        "  plt.scatter(point[0], point[1], color='b')\n",
        "  plt.annotate(word, (point[0], point[1]))\n",
        "  plt.xticks([])\n",
        "  plt.yticks([])"
      ],
      "metadata": {
        "colab": {
          "base_uri": "https://localhost:8080/",
          "height": 422
        },
        "id": "0Jxt-2hc2H8r",
        "outputId": "976d7a09-f1e6-4712-975b-c2a79780337b"
      },
      "execution_count": null,
      "outputs": [
        {
          "output_type": "display_data",
          "data": {
            "text/plain": [
              "<Figure size 1000x500 with 1 Axes>"
            ],
            "image/png": "[encoded data removed]"
          },
          "metadata": {}
        }
      ]
    },
    {
      "cell_type": "markdown",
      "source": [
        "Ans: Similar words point in similar directions."
      ],
      "metadata": {
        "id": "gUyMqZ9v51HY"
      }
    },
    {
      "cell_type": "markdown",
      "source": [
        "## F. Word Analogy: prince is to princess as lord is to?\n",
        "  - word1: `prince`, word2: `princess`, word3: `lord`\n",
        "  - `direction = vec(word2) - vec(word1)`\n",
        "  - `vec_tgt = vec(word3) + direction`\n",
        "  - Calcuate the cosine similarities between `vec_tgt` and all the words in the vocabulary, **except for word3**.\n",
        "  - Return the word that has the highest cosine similarity score."
      ],
      "metadata": {
        "id": "t9crJ6Dx3MCz"
      }
    },
    {
      "cell_type": "code",
      "source": [
        "def word_analogy(glove_vectors, word1, word2, word3):\n",
        "    \"\"\"\n",
        "    Args:\n",
        "        glove_vectors (Gensim KeyedVectors)\n",
        "        word1 (str): The first word in the analogy.\n",
        "        word2 (str): The second word in the analogy.\n",
        "        word3 (str): The third word in the analogy for which to find the analogous word.\n",
        "\n",
        "    Returns:\n",
        "        pred_word (str): The word that best completes the analogy.\n",
        "    \"\"\"\n",
        "\n",
        "    # Your code here\n",
        "    if word1 not in glove_vectors or word2 not in glove_vectors or word3 not in glove_vectors:\n",
        "        raise ValueError(f\"One of the words: {word1}, {word2}, {word3} is not in the vocabulary.\")\n",
        "\n",
        "    vec1 = glove_vectors[word1]\n",
        "    vec2 = glove_vectors[word2]\n",
        "    vec3 = glove_vectors[word3]\n",
        "\n",
        "    direction = vec2 - vec1\n",
        "    vec_tgt = vec3 + direction\n",
        "\n",
        "    max_sim = -np.inf\n",
        "    pred_word = None\n",
        "\n",
        "    for word in glove_vectors.index_to_key:\n",
        "        if word == word3:\n",
        "            continue\n",
        "\n",
        "        word_vec = glove_vectors[word]\n",
        "\n",
        "        cosine_sim = np.dot(vec_tgt, word_vec) / (np.linalg.norm(vec_tgt) * np.linalg.norm(word_vec))\n",
        "\n",
        "        if cosine_sim > max_sim:\n",
        "            max_sim = cosine_sim\n",
        "            pred_word = word\n",
        "\n",
        "    print(f'{word1} is to {word2} as {word3} is to? {pred_word}')\n",
        "    assert pred_word != word3\n",
        "    return pred_word"
      ],
      "metadata": {
        "id": "i51kuBJr3UW0"
      },
      "execution_count": null,
      "outputs": []
    },
    {
      "cell_type": "code",
      "source": [
        "pred_word = word_analogy(glove_vectors, 'prince', 'princess', 'lord')\n",
        "pred_word = word_analogy(glove_vectors, 'aunt', 'uncle', 'queen')\n",
        "pred_word = word_analogy(glove_vectors, 'london', 'england', 'paris')\n",
        "pred_word = word_analogy(glove_vectors, 'cat', 'cats', 'car')"
      ],
      "metadata": {
        "id": "y1e-zPgb9Gul",
        "colab": {
          "base_uri": "https://localhost:8080/"
        },
        "outputId": "68548387-fcbd-4c2e-95da-f121ffda7439"
      },
      "execution_count": null,
      "outputs": [
        {
          "output_type": "stream",
          "name": "stdout",
          "text": [
            "prince is to princess as lord is to? lady\n",
            "aunt is to uncle as queen is to? king\n",
            "london is to england as paris is to? france\n",
            "cat is to cats as car is to? cars\n"
          ]
        }
      ]
    }
  ]
}